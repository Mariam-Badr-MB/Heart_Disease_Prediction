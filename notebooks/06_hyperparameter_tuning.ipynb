{
 "cells": [
  {
   "cell_type": "code",
   "execution_count": 57,
   "id": "53d2375e",
   "metadata": {},
   "outputs": [],
   "source": [
    "# Necessary libraries\n",
    "\n",
    "import numpy as np \n",
    "import pandas as pd \n",
    "import matplotlib.pyplot as plt\n",
    "import seaborn as sns\n",
    "\n",
    "from sklearn.model_selection import train_test_split , GridSearchCV, RandomizedSearchCV\n",
    "from sklearn.metrics import accuracy_score, precision_score, recall_score, f1_score, roc_auc_score, roc_curve, confusion_matrix, classification_report\n",
    "from sklearn.pipeline import Pipeline\n",
    "from sklearn.preprocessing import  StandardScaler , MinMaxScaler, OneHotEncoder\n",
    "from sklearn.decomposition import PCA\n",
    "from sklearn.compose import ColumnTransformer\n",
    "\n",
    "from sklearn.linear_model import LogisticRegression\n",
    "from sklearn.tree import DecisionTreeClassifier\n",
    "from sklearn.ensemble import RandomForestClassifier\n",
    "from sklearn.svm import SVC\n",
    "\n",
    "import joblib\n",
    "import os\n"
   ]
  },
  {
   "cell_type": "code",
   "execution_count": 58,
   "id": "b554ebe4",
   "metadata": {},
   "outputs": [
    {
     "data": {
      "text/html": [
       "<div>\n",
       "<style scoped>\n",
       "    .dataframe tbody tr th:only-of-type {\n",
       "        vertical-align: middle;\n",
       "    }\n",
       "\n",
       "    .dataframe tbody tr th {\n",
       "        vertical-align: top;\n",
       "    }\n",
       "\n",
       "    .dataframe thead th {\n",
       "        text-align: right;\n",
       "    }\n",
       "</style>\n",
       "<table border=\"1\" class=\"dataframe\">\n",
       "  <thead>\n",
       "    <tr style=\"text-align: right;\">\n",
       "      <th></th>\n",
       "      <th>PC1</th>\n",
       "      <th>PC7</th>\n",
       "      <th>PC5</th>\n",
       "      <th>PC2</th>\n",
       "      <th>PC10</th>\n",
       "      <th>PC4</th>\n",
       "      <th>PC6</th>\n",
       "      <th>target</th>\n",
       "    </tr>\n",
       "  </thead>\n",
       "  <tbody>\n",
       "    <tr>\n",
       "      <th>0</th>\n",
       "      <td>-1.142929</td>\n",
       "      <td>-0.176824</td>\n",
       "      <td>0.876139</td>\n",
       "      <td>0.304724</td>\n",
       "      <td>0.912271</td>\n",
       "      <td>0.158837</td>\n",
       "      <td>0.595961</td>\n",
       "      <td>0</td>\n",
       "    </tr>\n",
       "    <tr>\n",
       "      <th>1</th>\n",
       "      <td>-2.754957</td>\n",
       "      <td>-0.803580</td>\n",
       "      <td>-0.784552</td>\n",
       "      <td>0.839171</td>\n",
       "      <td>-0.236447</td>\n",
       "      <td>0.662535</td>\n",
       "      <td>0.343510</td>\n",
       "      <td>1</td>\n",
       "    </tr>\n",
       "    <tr>\n",
       "      <th>2</th>\n",
       "      <td>-2.227239</td>\n",
       "      <td>0.727509</td>\n",
       "      <td>0.701716</td>\n",
       "      <td>-1.063098</td>\n",
       "      <td>0.172939</td>\n",
       "      <td>-0.004591</td>\n",
       "      <td>0.722079</td>\n",
       "      <td>1</td>\n",
       "    </tr>\n",
       "    <tr>\n",
       "      <th>3</th>\n",
       "      <td>1.140714</td>\n",
       "      <td>-0.620638</td>\n",
       "      <td>1.395045</td>\n",
       "      <td>-0.565884</td>\n",
       "      <td>-0.182818</td>\n",
       "      <td>-2.411838</td>\n",
       "      <td>-0.672393</td>\n",
       "      <td>0</td>\n",
       "    </tr>\n",
       "    <tr>\n",
       "      <th>4</th>\n",
       "      <td>1.701610</td>\n",
       "      <td>-0.685079</td>\n",
       "      <td>0.262726</td>\n",
       "      <td>-0.278171</td>\n",
       "      <td>-0.073178</td>\n",
       "      <td>-0.592310</td>\n",
       "      <td>0.785178</td>\n",
       "      <td>0</td>\n",
       "    </tr>\n",
       "  </tbody>\n",
       "</table>\n",
       "</div>"
      ],
      "text/plain": [
       "        PC1       PC7       PC5       PC2      PC10       PC4       PC6  \\\n",
       "0 -1.142929 -0.176824  0.876139  0.304724  0.912271  0.158837  0.595961   \n",
       "1 -2.754957 -0.803580 -0.784552  0.839171 -0.236447  0.662535  0.343510   \n",
       "2 -2.227239  0.727509  0.701716 -1.063098  0.172939 -0.004591  0.722079   \n",
       "3  1.140714 -0.620638  1.395045 -0.565884 -0.182818 -2.411838 -0.672393   \n",
       "4  1.701610 -0.685079  0.262726 -0.278171 -0.073178 -0.592310  0.785178   \n",
       "\n",
       "   target  \n",
       "0       0  \n",
       "1       1  \n",
       "2       1  \n",
       "3       0  \n",
       "4       0  "
      ]
     },
     "execution_count": 58,
     "metadata": {},
     "output_type": "execute_result"
    }
   ],
   "source": [
    "df = pd.read_csv('../data/heart_disease.csv')\n",
    "df.head()"
   ]
  },
  {
   "cell_type": "code",
   "execution_count": 59,
   "id": "3ebe1a5f",
   "metadata": {},
   "outputs": [],
   "source": [
    "X = df.drop(columns=['target'])\n",
    "y = df['target']\n",
    "\n",
    "X_train, X_test, y_train, y_test = train_test_split(\n",
    "    X, y, \n",
    "    test_size=0.2, \n",
    "    random_state=42 , \n",
    "    stratify=y\n",
    "    )"
   ]
  },
  {
   "cell_type": "code",
   "execution_count": 60,
   "id": "4c75eefa",
   "metadata": {},
   "outputs": [],
   "source": [
    "models = {\n",
    "    'Logistic Regression': LogisticRegression(max_iter=1000),   \n",
    "    'Decision Tree': DecisionTreeClassifier(),\n",
    "    'Random Forest': RandomForestClassifier(),\n",
    "    'Support Vector Machine': SVC(probability=True)\n",
    "}"
   ]
  },
  {
   "cell_type": "code",
   "execution_count": 61,
   "id": "6c9c3549",
   "metadata": {},
   "outputs": [],
   "source": [
    "parameters = {\n",
    "    'Logistic Regression': {\n",
    "        'C': [0.01, 0.1, 1, 10, 100] , \n",
    "        'solver': ['liblinear', 'saga'], \n",
    "        'penalty': ['l1', 'l2']\n",
    "    },\n",
    "    'Decision Tree': {\n",
    "        'max_depth': [None, 5, 10, 15, 20] , \n",
    "        'min_samples_split': [2, 5, 10], \n",
    "        'min_samples_leaf': [1, 2, 4]\n",
    "        },\n",
    "    'Random Forest': {\n",
    "        'n_estimators': [50, 100, 200], \n",
    "        'max_depth': [None, 5, 10] , \n",
    "        'min_samples_split': [2, 5, 10], \n",
    "        'min_samples_leaf': [1, 2, 4]\n",
    "        },\n",
    "    'Support Vector Machine': {\n",
    "        'C': [0.01, 0.1, 1, 10], \n",
    "        'kernel': ['linear', 'rbf'], \n",
    "        'gamma': ['scale', 'auto']\n",
    "        }\n",
    "} "
   ]
  },
  {
   "cell_type": "code",
   "execution_count": 62,
   "id": "38c3354d",
   "metadata": {},
   "outputs": [
    {
     "name": "stdout",
     "output_type": "stream",
     "text": [
      "Training Logistic Regression...\n",
      "Logistic Regression - Best Parameters: {'C': 10, 'penalty': 'l1', 'solver': 'liblinear'}\n",
      "Logistic Regression - Accuracy: 0.8000, Precision: 0.8333, Recall: 0.7143, F1 Score: 0.7692\n",
      "Logistic Regression - Best ROC AUC: 0.9131\n",
      "\n",
      "Training Decision Tree...\n",
      "Decision Tree - Best Parameters: {'max_depth': 5, 'min_samples_leaf': 2, 'min_samples_split': 10}\n",
      "Decision Tree - Accuracy: 0.7167, Precision: 0.7391, Recall: 0.6071, F1 Score: 0.6667\n",
      "Decision Tree - Best ROC AUC: 0.7895\n",
      "\n",
      "Training Random Forest...\n",
      "Random Forest - Best Parameters: {'max_depth': 10, 'min_samples_leaf': 1, 'min_samples_split': 10, 'n_estimators': 100}\n",
      "Random Forest - Accuracy: 0.8500, Precision: 0.9130, Recall: 0.7500, F1 Score: 0.8235\n",
      "Random Forest - Best ROC AUC: 0.9013\n",
      "\n",
      "Training Support Vector Machine...\n",
      "Support Vector Machine - Best Parameters: {'C': 0.1, 'gamma': 'scale', 'kernel': 'linear'}\n",
      "Support Vector Machine - Accuracy: 0.8500, Precision: 0.9130, Recall: 0.7500, F1 Score: 0.8235\n",
      "Support Vector Machine - Best ROC AUC: 0.9146\n",
      "\n"
     ]
    }
   ],
   "source": [
    "results = {}\n",
    "\n",
    "for model_name, model in models.items():\n",
    "    print(f\"Training {model_name}...\")\n",
    "    grid_search = GridSearchCV(\n",
    "        model, \n",
    "        parameters[model_name], \n",
    "        cv=5, \n",
    "        scoring='roc_auc', \n",
    "        n_jobs=-1\n",
    "    )\n",
    "    grid_search.fit(X_train, y_train)\n",
    "    best_model = grid_search.best_estimator_\n",
    "    y_pred = best_model.predict(X_test)\n",
    "    accuracy = accuracy_score(y_test, y_pred)\n",
    "    precision = precision_score(y_test, y_pred)\n",
    "    recall = recall_score(y_test, y_pred)\n",
    "    f1 = f1_score(y_test, y_pred)\n",
    "    results[model_name] = {\n",
    "        'Best Parameters': grid_search.best_params_,\n",
    "        'Accuracy': accuracy,\n",
    "        'Precision': precision,\n",
    "        'Recall': recall,\n",
    "        'F1 Score': f1\n",
    "    }\n",
    "    print(f\"{model_name} - Best Parameters: {grid_search.best_params_}\")\n",
    "    print(f\"{model_name} - Accuracy: {accuracy:.4f}, Precision: {precision:.4f}, Recall: {recall:.4f}, F1 Score: {f1:.4f}\")\n",
    "    print(f\"{model_name} - Best ROC AUC: {grid_search.best_score_:.4f}\\n\")\n"
   ]
  },
  {
   "cell_type": "code",
   "execution_count": 63,
   "id": "5437b816",
   "metadata": {},
   "outputs": [
    {
     "name": "stdout",
     "output_type": "stream",
     "text": [
      "Evaluating Logistic Regression...\n",
      "Evaluating Decision Tree...\n",
      "Evaluating Random Forest...\n",
      "Evaluating Support Vector Machine...\n"
     ]
    },
    {
     "data": {
      "image/png": "[encoded data removed]",
      "text/plain": [
       "<Figure size 800x600 with 1 Axes>"
      ]
     },
     "metadata": {},
     "output_type": "display_data"
    }
   ],
   "source": [
    "import joblib\n",
    "from sklearn.metrics import roc_curve, roc_auc_score\n",
    "from sklearn.model_selection import GridSearchCV\n",
    "import matplotlib.pyplot as plt\n",
    "\n",
    "roc_results = []\n",
    "best_auc = 0\n",
    "best_model_name = None\n",
    "best_model_final = None\n",
    "\n",
    "plt.figure(figsize=(8,6))\n",
    "for model_name, model in models.items():\n",
    "    print(f\"Evaluating {model_name}...\")\n",
    "    grid_search = GridSearchCV(\n",
    "        model, \n",
    "        parameters[model_name], \n",
    "        cv=5, \n",
    "        scoring='roc_auc', \n",
    "        n_jobs=-1\n",
    "    )\n",
    "    grid_search.fit(X_train, y_train)\n",
    "    best_model = grid_search.best_estimator_\n",
    "    y_pred_proba = best_model.predict_proba(X_test)[:, 1]\n",
    "    fpr, tpr, _ = roc_curve(y_test, y_pred_proba)\n",
    "    roc_auc = roc_auc_score(y_test, y_pred_proba)\n",
    "    roc_results.append((model_name, fpr, tpr, roc_auc))\n",
    "    plt.plot(fpr, tpr, label=f\"{model_name} (AUC = {roc_auc:.2f})\")\n",
    "    if roc_auc > best_auc:\n",
    "        best_auc = roc_auc\n",
    "        best_model_name = model_name\n",
    "        best_model_final = best_model\n",
    "\n",
    "plt.plot([0,1], [0,1], 'k--')\n",
    "plt.xlabel(\"False Positive Rate\")\n",
    "plt.ylabel(\"True Positive Rate\")\n",
    "plt.title(\"ROC Curves\")\n",
    "plt.legend()\n",
    "plt.show()\n"
   ]
  },
  {
   "cell_type": "code",
   "execution_count": 64,
   "id": "9c97c3bc",
   "metadata": {},
   "outputs": [
    {
     "name": "stdout",
     "output_type": "stream",
     "text": [
      "Best model 'Random Forest' saved with AUC = 0.95\n"
     ]
    }
   ],
   "source": [
    "#Save the best model\n",
    "os.makedirs('../models', exist_ok=True)\n",
    "joblib.dump(best_model_final, f'../models/final_model.pkl')\n",
    "print(f\"Best model '{best_model_name}' saved with AUC = {best_auc:.2f}\")"
   ]
  }
 ],
 "metadata": {
  "kernelspec": {
   "display_name": "Python 3",
   "language": "python",
   "name": "python3"
  },
  "language_info": {
   "codemirror_mode": {
    "name": "ipython",
    "version": 3
   },
   "file_extension": ".py",
   "mimetype": "text/x-python",
   "name": "python",
   "nbconvert_exporter": "python",
   "pygments_lexer": "ipython3",
   "version": "3.12.10"
  }
 },
 "nbformat": 4,
 "nbformat_minor": 5
}
