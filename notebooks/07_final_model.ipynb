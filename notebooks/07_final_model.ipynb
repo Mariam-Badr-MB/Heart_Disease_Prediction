{
 "cells": [
  {
   "cell_type": "code",
   "execution_count": 9,
   "id": "63875461",
   "metadata": {},
   "outputs": [],
   "source": [
    "# Necessary libraries\n",
    "\n",
    "import numpy as np \n",
    "import pandas as pd \n",
    "\n",
    "from sklearn.model_selection import train_test_split \n",
    "from sklearn.pipeline import Pipeline\n",
    "from sklearn.preprocessing import  StandardScaler , OneHotEncoder\n",
    "from sklearn.decomposition import PCA\n",
    "from sklearn.compose import ColumnTransformer\n",
    "\n",
    "from sklearn.linear_model import LogisticRegression\n",
    "\n",
    "\n",
    "import joblib\n",
    "import os\n"
   ]
  },
  {
   "cell_type": "code",
   "execution_count": 11,
   "id": "ec374660",
   "metadata": {},
   "outputs": [
    {
     "name": "stdout",
     "output_type": "stream",
     "text": [
      "Final model saved as 'final_pipeline_model.pkl' successfully.\n"
     ]
    }
   ],
   "source": [
    "# Final Model\n",
    "\n",
    "#Assign Column names\n",
    "\n",
    "column_names = [\n",
    "    'age', 'sex', 'cp', 'trestbps', 'chol', 'fbs', 'restecg', 'thalach',\n",
    "    'exang', 'oldpeak', 'slope', 'ca', 'thal', 'num' \n",
    "]\n",
    "\n",
    "df = pd.read_csv('../heart+disease/processed.cleveland.data', header=None, names=column_names, na_values='?')\n",
    "\n",
    "df = df.dropna()\n",
    "\n",
    "X = df.drop('num', axis=1)\n",
    "y = df['num'].apply(lambda x: 1 if x > 0 else 0)  \n",
    "\n",
    "\n",
    "X = df.drop(columns=['num'])\n",
    "y = df['num']\n",
    "\n",
    "\n",
    "X_train, X_test, y_train, y_test = train_test_split(\n",
    "    X, y, test_size=0.2, random_state=42, stratify=y\n",
    ")\n",
    "\n",
    "final_model = LogisticRegression(C=10, penalty='l1', solver='saga', max_iter=1000, random_state=42)\n",
    "\n",
    "final_pipeline = Pipeline([\n",
    "    ('scaler', StandardScaler()), \n",
    "    ('pca', PCA(n_components=7)),\n",
    "    ('model', final_model)\n",
    "])\n",
    "\n",
    "\n",
    "\n",
    "final_pipeline.fit(X_train, y_train)\n",
    "\n",
    "os.makedirs('../models', exist_ok=True)\n",
    "joblib.dump(final_pipeline, '../models/final_pipeline_model.pkl')\n",
    "\n",
    "print(\"Final model saved as 'final_pipeline_model.pkl' successfully.\")"
   ]
  }
 ],
 "metadata": {
  "kernelspec": {
   "display_name": "Python 3",
   "language": "python",
   "name": "python3"
  },
  "language_info": {
   "codemirror_mode": {
    "name": "ipython",
    "version": 3
   },
   "file_extension": ".py",
   "mimetype": "text/x-python",
   "name": "python",
   "nbconvert_exporter": "python",
   "pygments_lexer": "ipython3",
   "version": "3.12.10"
  }
 },
 "nbformat": 4,
 "nbformat_minor": 5
}
